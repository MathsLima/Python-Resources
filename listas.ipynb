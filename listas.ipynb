{
 "cells": [
  {
   "cell_type": "code",
   "execution_count": 1,
   "id": "393b68dd",
   "metadata": {},
   "outputs": [],
   "source": [
    "lista1 = [1, 2, 3]\n",
    "lista2 = [[1, 2, 3], [4, 5, 6], [7, 8, 9]]"
   ]
  },
  {
   "cell_type": "markdown",
   "id": "06a72126",
   "metadata": {},
   "source": [
    "## *Filtrando elementos da lista*"
   ]
  },
  {
   "cell_type": "code",
   "execution_count": 2,
   "id": "afc0e813",
   "metadata": {
    "scrolled": true
   },
   "outputs": [
    {
     "data": {
      "text/plain": [
       "list"
      ]
     },
     "execution_count": 2,
     "metadata": {},
     "output_type": "execute_result"
    }
   ],
   "source": [
    "lista1[0]\n",
    "type(lista1)"
   ]
  },
  {
   "cell_type": "code",
   "execution_count": 3,
   "id": "fcf1d329",
   "metadata": {},
   "outputs": [
    {
     "data": {
      "text/plain": [
       "[1, 2, 3]"
      ]
     },
     "execution_count": 3,
     "metadata": {},
     "output_type": "execute_result"
    }
   ],
   "source": [
    "lista2[0]"
   ]
  },
  {
   "cell_type": "code",
   "execution_count": 4,
   "id": "1a8ab8c2",
   "metadata": {},
   "outputs": [
    {
     "data": {
      "text/plain": [
       "3"
      ]
     },
     "execution_count": 4,
     "metadata": {},
     "output_type": "execute_result"
    }
   ],
   "source": [
    "lista2[0][2]"
   ]
  },
  {
   "cell_type": "markdown",
   "id": "2aa95e95",
   "metadata": {},
   "source": [
    "## **Armazenamento de elemento na lista**"
   ]
  },
  {
   "cell_type": "code",
   "execution_count": 5,
   "id": "4640df6c",
   "metadata": {},
   "outputs": [
    {
     "name": "stdout",
     "output_type": "stream",
     "text": [
      "[4, 5, 6]\n"
     ]
    },
    {
     "data": {
      "text/plain": [
       "list"
      ]
     },
     "execution_count": 5,
     "metadata": {},
     "output_type": "execute_result"
    }
   ],
   "source": [
    "# Armazenando elemento da lista em uma variavel\n",
    "select = lista2[1]\n",
    "print(select)\n",
    "type(select)"
   ]
  },
  {
   "cell_type": "code",
   "execution_count": 6,
   "id": "a15899d4",
   "metadata": {},
   "outputs": [
    {
     "name": "stdout",
     "output_type": "stream",
     "text": [
      "2\n"
     ]
    },
    {
     "data": {
      "text/plain": [
       "int"
      ]
     },
     "execution_count": 6,
     "metadata": {},
     "output_type": "execute_result"
    }
   ],
   "source": [
    "# Armazenando elemento da lista em uma variavel\n",
    "select = lista2[0][1]\n",
    "print(select)\n",
    "type(select)"
   ]
  },
  {
   "cell_type": "code",
   "execution_count": 7,
   "id": "59f93795",
   "metadata": {},
   "outputs": [
    {
     "name": "stdout",
     "output_type": "stream",
     "text": [
      "O carro escolhido foi: kombi\n"
     ]
    }
   ],
   "source": [
    "# Sorteando elementos aleatorios de uma lista\n",
    "import random\n",
    "carros = ['fusca', 'kombi', 'opala', 'corcel']\n",
    "escolhido = random.choice(carros)\n",
    "print('O carro escolhido foi:', escolhido)"
   ]
  },
  {
   "cell_type": "markdown",
   "id": "21d90138",
   "metadata": {},
   "source": [
    "### **Incluir elemento na lista**"
   ]
  },
  {
   "cell_type": "code",
   "execution_count": 8,
   "id": "574efec8",
   "metadata": {},
   "outputs": [],
   "source": [
    "x = [1, 2, 3]\n",
    "x.append(4)"
   ]
  },
  {
   "cell_type": "code",
   "execution_count": 9,
   "id": "8ac5854f",
   "metadata": {},
   "outputs": [
    {
     "name": "stdout",
     "output_type": "stream",
     "text": [
      "[1, 2, 3, 4]\n"
     ]
    }
   ],
   "source": [
    "print(x)"
   ]
  },
  {
   "cell_type": "code",
   "execution_count": 10,
   "id": "b9681354",
   "metadata": {},
   "outputs": [
    {
     "name": "stdout",
     "output_type": "stream",
     "text": [
      "[1, 2, 3, 4, 4, 5, 6]\n"
     ]
    }
   ],
   "source": [
    "y = [4, 5, 6]\n",
    "for item in y:\n",
    "    x.append(item)\n",
    "print(x)"
   ]
  },
  {
   "cell_type": "markdown",
   "id": "ec6a9c27",
   "metadata": {},
   "source": [
    "### **Manipulando listas**"
   ]
  },
  {
   "cell_type": "code",
   "execution_count": 11,
   "id": "b6b47cfd",
   "metadata": {},
   "outputs": [],
   "source": [
    "# transformando um num de uma lista em float \n",
    "x = [2, 4, 6, 10]"
   ]
  },
  {
   "cell_type": "code",
   "execution_count": 12,
   "id": "664cd15e",
   "metadata": {},
   "outputs": [
    {
     "name": "stdout",
     "output_type": "stream",
     "text": [
      "[2.0, 4.0, 6.0, 10.0]\n"
     ]
    }
   ],
   "source": [
    "nova_lista =[]\n",
    "for cada_elemento in x:\n",
    "    nova_lista.append(float(cada_elemento))\n",
    "print(nova_lista)"
   ]
  }
 ],
 "metadata": {
  "kernelspec": {
   "display_name": "Python 3 (ipykernel)",
   "language": "python",
   "name": "python3"
  },
  "language_info": {
   "codemirror_mode": {
    "name": "ipython",
    "version": 3
   },
   "file_extension": ".py",
   "mimetype": "text/x-python",
   "name": "python",
   "nbconvert_exporter": "python",
   "pygments_lexer": "ipython3",
   "version": "3.9.7"
  }
 },
 "nbformat": 4,
 "nbformat_minor": 5
}
