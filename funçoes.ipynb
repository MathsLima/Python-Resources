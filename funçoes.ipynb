{
 "cells": [
  {
   "cell_type": "markdown",
   "id": "1ef48b05",
   "metadata": {},
   "source": [
    "### Função normal"
   ]
  },
  {
   "cell_type": "code",
   "execution_count": 1,
   "id": "da45ce95",
   "metadata": {},
   "outputs": [],
   "source": [
    "def somaquadrado(a, b):\n",
    "    somaq = a**2 + b**2\n",
    "    return somaq"
   ]
  },
  {
   "cell_type": "code",
   "execution_count": 2,
   "id": "a24bfb57",
   "metadata": {},
   "outputs": [
    {
     "data": {
      "text/plain": [
       "13"
      ]
     },
     "execution_count": 2,
     "metadata": {},
     "output_type": "execute_result"
    }
   ],
   "source": [
    "somaquadrado(2,3)"
   ]
  },
  {
   "cell_type": "markdown",
   "id": "3297827d",
   "metadata": {},
   "source": [
    "### Funçao lambda"
   ]
  },
  {
   "cell_type": "code",
   "execution_count": 3,
   "id": "8f7674f4",
   "metadata": {},
   "outputs": [],
   "source": [
    "somaquadrado2 = lambda a, b: a**2 + b**2"
   ]
  },
  {
   "cell_type": "code",
   "execution_count": 4,
   "id": "2b630f88",
   "metadata": {},
   "outputs": [
    {
     "data": {
      "text/plain": [
       "13"
      ]
     },
     "execution_count": 4,
     "metadata": {},
     "output_type": "execute_result"
    }
   ],
   "source": [
    "somaquadrado2(2,3)"
   ]
  },
  {
   "cell_type": "code",
   "execution_count": 5,
   "id": "194db9d8",
   "metadata": {},
   "outputs": [
    {
     "data": {
      "text/plain": [
       "5.0"
      ]
     },
     "execution_count": 5,
     "metadata": {},
     "output_type": "execute_result"
    }
   ],
   "source": [
    "x = lambda f: f/2\n",
    "x(10)"
   ]
  },
  {
   "cell_type": "markdown",
   "id": "b96b8b5b",
   "metadata": {},
   "source": [
    "### Funçao map( )"
   ]
  },
  {
   "cell_type": "code",
   "execution_count": 6,
   "id": "a21cdbae",
   "metadata": {},
   "outputs": [],
   "source": [
    "# Uma lista simples de velocidade, por exemplo\n",
    "kmh = [5, 8, 10, 15, 22, 24, 27, 30, 32]"
   ]
  },
  {
   "cell_type": "code",
   "execution_count": 7,
   "id": "f0c16aff",
   "metadata": {},
   "outputs": [],
   "source": [
    "# maneira normal de conversão\n",
    "mph =[]\n",
    "for i in kmh:\n",
    "    mph.append(i/1.61)"
   ]
  },
  {
   "cell_type": "code",
   "execution_count": 8,
   "id": "d16750c7",
   "metadata": {},
   "outputs": [
    {
     "name": "stdout",
     "output_type": "stream",
     "text": [
      "[3.105590062111801, 4.968944099378882, 6.211180124223602, 9.316770186335404, 13.664596273291925, 14.906832298136646, 16.770186335403725, 18.633540372670808, 19.875776397515526]\n"
     ]
    }
   ],
   "source": [
    "# maneira usando map\n",
    "mph2 = list(map(lambda x: x/1.61, kmh))\n",
    "print(mph2)"
   ]
  },
  {
   "cell_type": "markdown",
   "id": "793baade",
   "metadata": {},
   "source": [
    "###  Funçao List Comprehension\n"
   ]
  },
  {
   "cell_type": "code",
   "execution_count": 9,
   "id": "23867011",
   "metadata": {},
   "outputs": [
    {
     "name": "stdout",
     "output_type": "stream",
     "text": [
      "['P', 'y', 't', 'h', 'o', 'n', ' ', 'L', 'a', 'n', 'g', 'u', 'a', 'g', 'e']\n"
     ]
    }
   ],
   "source": [
    "caracter = [i for i in 'Python Language']\n",
    "print(caracter)"
   ]
  },
  {
   "cell_type": "code",
   "execution_count": 10,
   "id": "310cb3ef",
   "metadata": {},
   "outputs": [
    {
     "name": "stdout",
     "output_type": "stream",
     "text": [
      "['P', 'y', 't', 'h', 'o', 'n', ' ', 'L', 'a', 'n', 'g', 'u', 'a', 'g', 'e']\n"
     ]
    }
   ],
   "source": [
    "caracter = [i for i in 'Python Language']\n",
    "print(caracter)"
   ]
  }
 ],
 "metadata": {
  "kernelspec": {
   "display_name": "Python 3 (ipykernel)",
   "language": "python",
   "name": "python3"
  },
  "language_info": {
   "codemirror_mode": {
    "name": "ipython",
    "version": 3
   },
   "file_extension": ".py",
   "mimetype": "text/x-python",
   "name": "python",
   "nbconvert_exporter": "python",
   "pygments_lexer": "ipython3",
   "version": "3.9.7"
  }
 },
 "nbformat": 4,
 "nbformat_minor": 5
}
