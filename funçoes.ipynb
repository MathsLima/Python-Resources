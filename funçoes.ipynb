{
  "nbformat": 4,
  "nbformat_minor": 0,
  "metadata": {
    "colab": {
      "name": "funçoes",
      "provenance": [],
      "authorship_tag": "ABX9TyMLdJPj0krTfe0Nru4K76kD"
    },
    "kernelspec": {
      "name": "python3",
      "display_name": "Python 3"
    },
    "language_info": {
      "name": "python"
    }
  },
  "cells": [
    {
      "cell_type": "markdown",
      "source": [
        "### **Funçao Normal**"
      ],
      "metadata": {
        "id": "cqWIeRASICPJ"
      }
    },
    {
      "cell_type": "code",
      "source": [
        "def somaquadrado(a, b):\n",
        "    somaq = a**2 + b**2\n",
        "    return somaq"
      ],
      "metadata": {
        "id": "xUh9HQdrIINd"
      },
      "execution_count": 1,
      "outputs": []
    },
    {
      "cell_type": "code",
      "source": [
        "somaquadrado(2,3)"
      ],
      "metadata": {
        "colab": {
          "base_uri": "https://localhost:8080/"
        },
        "id": "rWwFh33cII-g",
        "outputId": "e5d4438f-a0d7-4fa0-92be-3afda4f79f84"
      },
      "execution_count": 2,
      "outputs": [
        {
          "output_type": "execute_result",
          "data": {
            "text/plain": [
              "13"
            ]
          },
          "metadata": {},
          "execution_count": 2
        }
      ]
    },
    {
      "cell_type": "markdown",
      "source": [
        "### **Funçao lambda**"
      ],
      "metadata": {
        "id": "q_cBHgrwIKtg"
      }
    },
    {
      "cell_type": "code",
      "source": [
        "somaquadrado2 = lambda a, b: a**2 + b**2"
      ],
      "metadata": {
        "id": "3DVMlsiKIL46"
      },
      "execution_count": 3,
      "outputs": []
    },
    {
      "cell_type": "code",
      "source": [
        "somaquadrado2(2,3)"
      ],
      "metadata": {
        "colab": {
          "base_uri": "https://localhost:8080/"
        },
        "id": "Ev-gyuI_INHA",
        "outputId": "79dca117-0018-4e7c-ffa5-765a7707c899"
      },
      "execution_count": 4,
      "outputs": [
        {
          "output_type": "execute_result",
          "data": {
            "text/plain": [
              "13"
            ]
          },
          "metadata": {},
          "execution_count": 4
        }
      ]
    },
    {
      "cell_type": "code",
      "source": [
        "x = lambda f: f/2\n",
        "x(10)"
      ],
      "metadata": {
        "colab": {
          "base_uri": "https://localhost:8080/"
        },
        "id": "AzMUGEZoIOB1",
        "outputId": "b18e4752-bf53-4052-8b8c-ee31b6abe422"
      },
      "execution_count": 5,
      "outputs": [
        {
          "output_type": "execute_result",
          "data": {
            "text/plain": [
              "5.0"
            ]
          },
          "metadata": {},
          "execution_count": 5
        }
      ]
    },
    {
      "cell_type": "markdown",
      "source": [
        "### **Funçao map( )**"
      ],
      "metadata": {
        "id": "zFT5_SqQIUnK"
      }
    },
    {
      "cell_type": "code",
      "source": [
        "# Uma lista simples de velocidade, por exemplo\n",
        "kmh = [5, 8, 10, 15, 22, 24, 27, 30, 32]"
      ],
      "metadata": {
        "id": "NaEQCrsmIW0q"
      },
      "execution_count": 6,
      "outputs": []
    },
    {
      "cell_type": "code",
      "source": [
        "# maneira normal de conversão\n",
        "mph =[]\n",
        "for i in kmh:\n",
        "    mph.append(i/1.61)"
      ],
      "metadata": {
        "id": "yj-y1fFFIYqi"
      },
      "execution_count": 7,
      "outputs": []
    },
    {
      "cell_type": "code",
      "source": [
        "# maneira usando map\n",
        "mph2 = list(map(lambda x: x/1.61, kmh))\n",
        "print(mph2)"
      ],
      "metadata": {
        "colab": {
          "base_uri": "https://localhost:8080/"
        },
        "id": "2BGtlofBIZnR",
        "outputId": "2546e452-ef53-4971-f4a6-b40afb972ec1"
      },
      "execution_count": 8,
      "outputs": [
        {
          "output_type": "stream",
          "name": "stdout",
          "text": [
            "[3.105590062111801, 4.968944099378882, 6.211180124223602, 9.316770186335404, 13.664596273291925, 14.906832298136646, 16.770186335403725, 18.633540372670808, 19.875776397515526]\n"
          ]
        }
      ]
    },
    {
      "cell_type": "markdown",
      "source": [
        "###  **Funçao List Comprehension**"
      ],
      "metadata": {
        "id": "uf55UxuoIavy"
      }
    },
    {
      "cell_type": "code",
      "source": [
        "caracter = [i for i in 'Python Language']\n",
        "print(caracter)"
      ],
      "metadata": {
        "colab": {
          "base_uri": "https://localhost:8080/"
        },
        "id": "9mEKVVJlIea7",
        "outputId": "cbf0ff07-2d20-437b-adb1-9f648edaf2dd"
      },
      "execution_count": 9,
      "outputs": [
        {
          "output_type": "stream",
          "name": "stdout",
          "text": [
            "['P', 'y', 't', 'h', 'o', 'n', ' ', 'L', 'a', 'n', 'g', 'u', 'a', 'g', 'e']\n"
          ]
        }
      ]
    },
    {
      "cell_type": "code",
      "source": [
        "caracter = [i for i in 'Python Language']\n",
        "print(caracter)"
      ],
      "metadata": {
        "colab": {
          "base_uri": "https://localhost:8080/"
        },
        "id": "DCUx9BtaIf4_",
        "outputId": "954d9140-7cf1-438b-c07e-0d797b817f28"
      },
      "execution_count": 10,
      "outputs": [
        {
          "output_type": "stream",
          "name": "stdout",
          "text": [
            "['P', 'y', 't', 'h', 'o', 'n', ' ', 'L', 'a', 'n', 'g', 'u', 'a', 'g', 'e']\n"
          ]
        }
      ]
    }
  ]
}