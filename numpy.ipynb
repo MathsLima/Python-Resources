{
 "cells": [
  {
   "cell_type": "code",
   "execution_count": 1,
   "id": "1b665cbc",
   "metadata": {},
   "outputs": [],
   "source": [
    "import numpy as np"
   ]
  },
  {
   "cell_type": "markdown",
   "id": "73251fcd",
   "metadata": {},
   "source": [
    "### *Criando matriz*"
   ]
  },
  {
   "cell_type": "code",
   "execution_count": 2,
   "id": "ae494e82",
   "metadata": {},
   "outputs": [
    {
     "name": "stdout",
     "output_type": "stream",
     "text": [
      "[1 2 3]\n",
      "\n",
      "\n",
      "[[2 5 7]\n",
      " [5 3 9]]\n",
      "\n",
      "\n",
      "[[0. 0. 0.]\n",
      " [0. 0. 0.]\n",
      " [0. 0. 0.]\n",
      " [0. 0. 0.]]\n"
     ]
    }
   ],
   "source": [
    "a = np.array([1, 2, 3]) #função com lista de 3 elementos\n",
    "print(a)\n",
    "\n",
    "print(\"\\n\")\n",
    "\n",
    "b = np.array([(2, 5, 7), (5, 3, 9)])\n",
    "print(b)\n",
    "\n",
    "print(\"\\n\")\n",
    "\n",
    "c = np.zeros((4, 3))\n",
    "print(c)"
   ]
  },
  {
   "cell_type": "markdown",
   "id": "1467c3ab",
   "metadata": {},
   "source": [
    "### *Manipulando matriz*"
   ]
  },
  {
   "cell_type": "code",
   "execution_count": 3,
   "id": "4dcd77b5",
   "metadata": {},
   "outputs": [
    {
     "name": "stdout",
     "output_type": "stream",
     "text": [
      "[[1. 0. 0. 0. 0.]\n",
      " [0. 1. 0. 0. 0.]\n",
      " [0. 0. 1. 0. 0.]\n",
      " [0. 0. 0. 1. 0.]\n",
      " [0. 0. 0. 0. 1.]]\n"
     ]
    }
   ],
   "source": [
    "d = np.eye(5)\n",
    "print(d)"
   ]
  },
  {
   "cell_type": "code",
   "execution_count": 4,
   "id": "e571d33b",
   "metadata": {},
   "outputs": [
    {
     "data": {
      "text/plain": [
       "31"
      ]
     },
     "execution_count": 4,
     "metadata": {},
     "output_type": "execute_result"
    }
   ],
   "source": [
    "b.sum() #soma da matriz"
   ]
  },
  {
   "cell_type": "code",
   "execution_count": 5,
   "id": "16023db4",
   "metadata": {},
   "outputs": [
    {
     "data": {
      "text/plain": [
       "5.166666666666667"
      ]
     },
     "execution_count": 5,
     "metadata": {},
     "output_type": "execute_result"
    }
   ],
   "source": [
    "b.mean() #média da matriz"
   ]
  },
  {
   "cell_type": "code",
   "execution_count": 6,
   "id": "83cf9b92",
   "metadata": {},
   "outputs": [
    {
     "data": {
      "text/plain": [
       "2.3392781412697"
      ]
     },
     "execution_count": 6,
     "metadata": {},
     "output_type": "execute_result"
    }
   ],
   "source": [
    "b.std() #desvio padrão"
   ]
  }
 ],
 "metadata": {
  "kernelspec": {
   "display_name": "Python 3 (ipykernel)",
   "language": "python",
   "name": "python3"
  },
  "language_info": {
   "codemirror_mode": {
    "name": "ipython",
    "version": 3
   },
   "file_extension": ".py",
   "mimetype": "text/x-python",
   "name": "python",
   "nbconvert_exporter": "python",
   "pygments_lexer": "ipython3",
   "version": "3.9.7"
  }
 },
 "nbformat": 4,
 "nbformat_minor": 5
}
