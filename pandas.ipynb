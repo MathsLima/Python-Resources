{
 "cells": [
  {
   "cell_type": "markdown",
   "id": "712e2b32",
   "metadata": {},
   "source": [
    "### **Abrindo arquivos com pandas**"
   ]
  },
  {
   "cell_type": "code",
   "execution_count": 4,
   "id": "adb6bb77",
   "metadata": {},
   "outputs": [],
   "source": [
    "import pandas as pd\n",
    "dados = pd.read_csv(\"D:\\Documentos\\Carrinhos.csv\")"
   ]
  },
  {
   "cell_type": "code",
   "execution_count": 5,
   "id": "bc093bde",
   "metadata": {},
   "outputs": [
    {
     "data": {
      "text/html": [
       "<div>\n",
       "<style scoped>\n",
       "    .dataframe tbody tr th:only-of-type {\n",
       "        vertical-align: middle;\n",
       "    }\n",
       "\n",
       "    .dataframe tbody tr th {\n",
       "        vertical-align: top;\n",
       "    }\n",
       "\n",
       "    .dataframe thead th {\n",
       "        text-align: right;\n",
       "    }\n",
       "</style>\n",
       "<table border=\"1\" class=\"dataframe\">\n",
       "  <thead>\n",
       "    <tr style=\"text-align: right;\">\n",
       "      <th></th>\n",
       "      <th>Modelo;Marca;Colecao;Cor</th>\n",
       "    </tr>\n",
       "  </thead>\n",
       "  <tbody>\n",
       "    <tr>\n",
       "      <th>0</th>\n",
       "      <td>USS Enterprise NCC-1701;Hot Wheels;Mainline;Br...</td>\n",
       "    </tr>\n",
       "    <tr>\n",
       "      <th>1</th>\n",
       "      <td>USS Vengeance;Hot Wheels;Mainline;Cinza</td>\n",
       "    </tr>\n",
       "    <tr>\n",
       "      <th>2</th>\n",
       "      <td>Datsun 240z;Hot Wheels;Mainline;Branco</td>\n",
       "    </tr>\n",
       "    <tr>\n",
       "      <th>3</th>\n",
       "      <td>Blook O' Wood;Hot Wheels;Mainline;Branco</td>\n",
       "    </tr>\n",
       "    <tr>\n",
       "      <th>4</th>\n",
       "      <td>Datsun 620;Hot Wheels;Mainline;Laranja</td>\n",
       "    </tr>\n",
       "    <tr>\n",
       "      <th>...</th>\n",
       "      <td>...</td>\n",
       "    </tr>\n",
       "    <tr>\n",
       "      <th>377</th>\n",
       "      <td>Toyota Tacoma;Hot Wheels;Mainline;Azul</td>\n",
       "    </tr>\n",
       "    <tr>\n",
       "      <th>378</th>\n",
       "      <td>Ford Sierra Cosworth;Hot Wheels;Mainline;Preto</td>\n",
       "    </tr>\n",
       "    <tr>\n",
       "      <th>379</th>\n",
       "      <td>59 Impala;Hot Wheels;Mainline;Rosa</td>\n",
       "    </tr>\n",
       "    <tr>\n",
       "      <th>380</th>\n",
       "      <td>RAM 2500;Hot Wheels;Mainline;Cinza</td>\n",
       "    </tr>\n",
       "    <tr>\n",
       "      <th>381</th>\n",
       "      <td>Mustang Mach E;Hot Wheels;Mainline;Branco</td>\n",
       "    </tr>\n",
       "  </tbody>\n",
       "</table>\n",
       "<p>382 rows × 1 columns</p>\n",
       "</div>"
      ],
      "text/plain": [
       "                              Modelo;Marca;Colecao;Cor\n",
       "0    USS Enterprise NCC-1701;Hot Wheels;Mainline;Br...\n",
       "1              USS Vengeance;Hot Wheels;Mainline;Cinza\n",
       "2               Datsun 240z;Hot Wheels;Mainline;Branco\n",
       "3             Blook O' Wood;Hot Wheels;Mainline;Branco\n",
       "4               Datsun 620;Hot Wheels;Mainline;Laranja\n",
       "..                                                 ...\n",
       "377             Toyota Tacoma;Hot Wheels;Mainline;Azul\n",
       "378     Ford Sierra Cosworth;Hot Wheels;Mainline;Preto\n",
       "379                 59 Impala;Hot Wheels;Mainline;Rosa\n",
       "380                 RAM 2500;Hot Wheels;Mainline;Cinza\n",
       "381          Mustang Mach E;Hot Wheels;Mainline;Branco\n",
       "\n",
       "[382 rows x 1 columns]"
      ]
     },
     "metadata": {},
     "output_type": "display_data"
    }
   ],
   "source": [
    "display(dados) # carrega toda a tabela"
   ]
  },
  {
   "cell_type": "code",
   "execution_count": 6,
   "id": "0bbba6c1",
   "metadata": {},
   "outputs": [
    {
     "data": {
      "text/html": [
       "<div>\n",
       "<style scoped>\n",
       "    .dataframe tbody tr th:only-of-type {\n",
       "        vertical-align: middle;\n",
       "    }\n",
       "\n",
       "    .dataframe tbody tr th {\n",
       "        vertical-align: top;\n",
       "    }\n",
       "\n",
       "    .dataframe thead th {\n",
       "        text-align: right;\n",
       "    }\n",
       "</style>\n",
       "<table border=\"1\" class=\"dataframe\">\n",
       "  <thead>\n",
       "    <tr style=\"text-align: right;\">\n",
       "      <th></th>\n",
       "      <th>Modelo;Marca;Colecao;Cor</th>\n",
       "    </tr>\n",
       "  </thead>\n",
       "  <tbody>\n",
       "    <tr>\n",
       "      <th>0</th>\n",
       "      <td>USS Enterprise NCC-1701;Hot Wheels;Mainline;Br...</td>\n",
       "    </tr>\n",
       "    <tr>\n",
       "      <th>1</th>\n",
       "      <td>USS Vengeance;Hot Wheels;Mainline;Cinza</td>\n",
       "    </tr>\n",
       "    <tr>\n",
       "      <th>2</th>\n",
       "      <td>Datsun 240z;Hot Wheels;Mainline;Branco</td>\n",
       "    </tr>\n",
       "    <tr>\n",
       "      <th>3</th>\n",
       "      <td>Blook O' Wood;Hot Wheels;Mainline;Branco</td>\n",
       "    </tr>\n",
       "    <tr>\n",
       "      <th>4</th>\n",
       "      <td>Datsun 620;Hot Wheels;Mainline;Laranja</td>\n",
       "    </tr>\n",
       "    <tr>\n",
       "      <th>5</th>\n",
       "      <td>Mustang Drag;Hot Wheels;Mainline;Azul</td>\n",
       "    </tr>\n",
       "    <tr>\n",
       "      <th>6</th>\n",
       "      <td>1970 Camaro;Hot Wheels;Mainline;Verde</td>\n",
       "    </tr>\n",
       "    <tr>\n",
       "      <th>7</th>\n",
       "      <td>Meyers Manx;Hot Wheels;Mainline;Vermelho</td>\n",
       "    </tr>\n",
       "    <tr>\n",
       "      <th>8</th>\n",
       "      <td>Surfing School Bus;Hot Wheels;Mainline;Amarelo</td>\n",
       "    </tr>\n",
       "    <tr>\n",
       "      <th>9</th>\n",
       "      <td>Hiway Hauler 2;Hot Wheels;Mainline;Vermelho</td>\n",
       "    </tr>\n",
       "  </tbody>\n",
       "</table>\n",
       "</div>"
      ],
      "text/plain": [
       "                            Modelo;Marca;Colecao;Cor\n",
       "0  USS Enterprise NCC-1701;Hot Wheels;Mainline;Br...\n",
       "1            USS Vengeance;Hot Wheels;Mainline;Cinza\n",
       "2             Datsun 240z;Hot Wheels;Mainline;Branco\n",
       "3           Blook O' Wood;Hot Wheels;Mainline;Branco\n",
       "4             Datsun 620;Hot Wheels;Mainline;Laranja\n",
       "5              Mustang Drag;Hot Wheels;Mainline;Azul\n",
       "6              1970 Camaro;Hot Wheels;Mainline;Verde\n",
       "7           Meyers Manx;Hot Wheels;Mainline;Vermelho\n",
       "8     Surfing School Bus;Hot Wheels;Mainline;Amarelo\n",
       "9        Hiway Hauler 2;Hot Wheels;Mainline;Vermelho"
      ]
     },
     "execution_count": 6,
     "metadata": {},
     "output_type": "execute_result"
    }
   ],
   "source": [
    "dados.head(10) # carrega as 10 primeiras linhas"
   ]
  },
  {
   "cell_type": "markdown",
   "id": "3317135a",
   "metadata": {},
   "source": [
    "### **Criando Dataframe com pandas**"
   ]
  },
  {
   "cell_type": "code",
   "execution_count": 7,
   "id": "924e1755",
   "metadata": {},
   "outputs": [],
   "source": [
    "import pandas as pd\n",
    "alunos = {'Nome':['Jose', 'Maria', 'Joao', 'Pedro'],\n",
    "          'Nota':[4, 7, 5.5, 9],\n",
    "          'Aprovado':['Nao', 'Sim', 'Nao', 'Sim']}"
   ]
  },
  {
   "cell_type": "code",
   "execution_count": 8,
   "id": "813dcae1",
   "metadata": {},
   "outputs": [
    {
     "name": "stdout",
     "output_type": "stream",
     "text": [
      "    Nome  Nota Aprovado\n",
      "0   Jose   4.0      Nao\n",
      "1  Maria   7.0      Sim\n",
      "2   Joao   5.5      Nao\n",
      "3  Pedro   9.0      Sim\n"
     ]
    }
   ],
   "source": [
    "dataframe = pd.DataFrame(alunos)\n",
    "print(dataframe)"
   ]
  },
  {
   "cell_type": "markdown",
   "id": "56b282d7",
   "metadata": {},
   "source": [
    "### **Comando Series**"
   ]
  },
  {
   "cell_type": "code",
   "execution_count": 9,
   "id": "ce0204cb",
   "metadata": {},
   "outputs": [
    {
     "name": "stdout",
     "output_type": "stream",
     "text": [
      "0     2\n",
      "1     6\n",
      "2     9\n",
      "3    10\n",
      "4     5\n",
      "dtype: int64\n"
     ]
    }
   ],
   "source": [
    "objeto1 = pd.Series([2, 6, 9, 10, 5])\n",
    "print(objeto1)"
   ]
  },
  {
   "cell_type": "code",
   "execution_count": 10,
   "id": "f323c24c",
   "metadata": {},
   "outputs": [
    {
     "name": "stdout",
     "output_type": "stream",
     "text": [
      "[[ 2  6  9 10  5]\n",
      " [ 6 12  2  9 10]]\n"
     ]
    }
   ],
   "source": [
    "import numpy as np\n",
    "array = np.array([(2, 6, 9, 10, 5), (6, 12, 2, 9, 10)])\n",
    "print(array)"
   ]
  },
  {
   "cell_type": "markdown",
   "id": "873a0c85",
   "metadata": {},
   "source": [
    "### **Comandos uteis do panda**"
   ]
  },
  {
   "cell_type": "code",
   "execution_count": 11,
   "id": "d593b039",
   "metadata": {},
   "outputs": [],
   "source": [
    "import pandas as pd\n",
    "alunos_dic = {'Nome':['Jose', 'Maria', 'Joao', 'Pedro'],\n",
    "          'Nota':[4, 7, 5.5, 9],\n",
    "          'Aprovado':['Nao', 'Sim', 'Nao', 'Sim']}"
   ]
  },
  {
   "cell_type": "code",
   "execution_count": 12,
   "id": "38e620e9",
   "metadata": {},
   "outputs": [
    {
     "name": "stdout",
     "output_type": "stream",
     "text": [
      "    Nome  Nota Aprovado\n",
      "0   Jose   4.0      Nao\n",
      "1  Maria   7.0      Sim\n",
      "2   Joao   5.5      Nao\n",
      "3  Pedro   9.0      Sim\n",
      "\n",
      "\n"
     ]
    },
    {
     "data": {
      "text/html": [
       "<div>\n",
       "<style scoped>\n",
       "    .dataframe tbody tr th:only-of-type {\n",
       "        vertical-align: middle;\n",
       "    }\n",
       "\n",
       "    .dataframe tbody tr th {\n",
       "        vertical-align: top;\n",
       "    }\n",
       "\n",
       "    .dataframe thead th {\n",
       "        text-align: right;\n",
       "    }\n",
       "</style>\n",
       "<table border=\"1\" class=\"dataframe\">\n",
       "  <thead>\n",
       "    <tr style=\"text-align: right;\">\n",
       "      <th></th>\n",
       "      <th>Nome</th>\n",
       "      <th>Nota</th>\n",
       "      <th>Aprovado</th>\n",
       "    </tr>\n",
       "  </thead>\n",
       "  <tbody>\n",
       "    <tr>\n",
       "      <th>0</th>\n",
       "      <td>Jose</td>\n",
       "      <td>4.0</td>\n",
       "      <td>Nao</td>\n",
       "    </tr>\n",
       "    <tr>\n",
       "      <th>1</th>\n",
       "      <td>Maria</td>\n",
       "      <td>7.0</td>\n",
       "      <td>Sim</td>\n",
       "    </tr>\n",
       "    <tr>\n",
       "      <th>2</th>\n",
       "      <td>Joao</td>\n",
       "      <td>5.5</td>\n",
       "      <td>Nao</td>\n",
       "    </tr>\n",
       "    <tr>\n",
       "      <th>3</th>\n",
       "      <td>Pedro</td>\n",
       "      <td>9.0</td>\n",
       "      <td>Sim</td>\n",
       "    </tr>\n",
       "  </tbody>\n",
       "</table>\n",
       "</div>"
      ],
      "text/plain": [
       "    Nome  Nota Aprovado\n",
       "0   Jose   4.0      Nao\n",
       "1  Maria   7.0      Sim\n",
       "2   Joao   5.5      Nao\n",
       "3  Pedro   9.0      Sim"
      ]
     },
     "execution_count": 12,
     "metadata": {},
     "output_type": "execute_result"
    }
   ],
   "source": [
    "alunos_df = pd.DataFrame(alunos_dic)\n",
    "print(alunos_df)\n",
    "\n",
    "print(\"\\n\")\n",
    "\n",
    "alunos_df.head() # Formata a tabela"
   ]
  },
  {
   "cell_type": "code",
   "execution_count": 13,
   "id": "1b458443",
   "metadata": {},
   "outputs": [
    {
     "data": {
      "text/plain": [
       "(4, 3)"
      ]
     },
     "execution_count": 13,
     "metadata": {},
     "output_type": "execute_result"
    }
   ],
   "source": [
    "alunos_df.shape # Mostra quantas linhas e colunas tem o dataframe"
   ]
  },
  {
   "cell_type": "markdown",
   "id": "8ed77587",
   "metadata": {},
   "source": [
    "### **Metodo Describe**\n",
    "\n",
    "Demonstra as informaçoes automaticamente dos dataframes."
   ]
  },
  {
   "cell_type": "code",
   "execution_count": 14,
   "id": "725905bd",
   "metadata": {},
   "outputs": [
    {
     "data": {
      "text/html": [
       "<div>\n",
       "<style scoped>\n",
       "    .dataframe tbody tr th:only-of-type {\n",
       "        vertical-align: middle;\n",
       "    }\n",
       "\n",
       "    .dataframe tbody tr th {\n",
       "        vertical-align: top;\n",
       "    }\n",
       "\n",
       "    .dataframe thead th {\n",
       "        text-align: right;\n",
       "    }\n",
       "</style>\n",
       "<table border=\"1\" class=\"dataframe\">\n",
       "  <thead>\n",
       "    <tr style=\"text-align: right;\">\n",
       "      <th></th>\n",
       "      <th>Nota</th>\n",
       "    </tr>\n",
       "  </thead>\n",
       "  <tbody>\n",
       "    <tr>\n",
       "      <th>count</th>\n",
       "      <td>4.000000</td>\n",
       "    </tr>\n",
       "    <tr>\n",
       "      <th>mean</th>\n",
       "      <td>6.375000</td>\n",
       "    </tr>\n",
       "    <tr>\n",
       "      <th>std</th>\n",
       "      <td>2.136001</td>\n",
       "    </tr>\n",
       "    <tr>\n",
       "      <th>min</th>\n",
       "      <td>4.000000</td>\n",
       "    </tr>\n",
       "    <tr>\n",
       "      <th>25%</th>\n",
       "      <td>5.125000</td>\n",
       "    </tr>\n",
       "    <tr>\n",
       "      <th>50%</th>\n",
       "      <td>6.250000</td>\n",
       "    </tr>\n",
       "    <tr>\n",
       "      <th>75%</th>\n",
       "      <td>7.500000</td>\n",
       "    </tr>\n",
       "    <tr>\n",
       "      <th>max</th>\n",
       "      <td>9.000000</td>\n",
       "    </tr>\n",
       "  </tbody>\n",
       "</table>\n",
       "</div>"
      ],
      "text/plain": [
       "           Nota\n",
       "count  4.000000\n",
       "mean   6.375000\n",
       "std    2.136001\n",
       "min    4.000000\n",
       "25%    5.125000\n",
       "50%    6.250000\n",
       "75%    7.500000\n",
       "max    9.000000"
      ]
     },
     "execution_count": 14,
     "metadata": {},
     "output_type": "execute_result"
    }
   ],
   "source": [
    "alunos_df.describe()"
   ]
  },
  {
   "cell_type": "markdown",
   "id": "daa83d23",
   "metadata": {},
   "source": [
    "### **Filtros de um dataframe- Slice**"
   ]
  },
  {
   "cell_type": "code",
   "execution_count": 15,
   "id": "410b0566",
   "metadata": {},
   "outputs": [
    {
     "data": {
      "text/plain": [
       "0     Jose\n",
       "1    Maria\n",
       "2     Joao\n",
       "3    Pedro\n",
       "Name: Nome, dtype: object"
      ]
     },
     "execution_count": 15,
     "metadata": {},
     "output_type": "execute_result"
    }
   ],
   "source": [
    "alunos_df['Nome'] # Filtro de uma coluna"
   ]
  },
  {
   "cell_type": "code",
   "execution_count": 16,
   "id": "6c49b205",
   "metadata": {},
   "outputs": [
    {
     "data": {
      "text/html": [
       "<div>\n",
       "<style scoped>\n",
       "    .dataframe tbody tr th:only-of-type {\n",
       "        vertical-align: middle;\n",
       "    }\n",
       "\n",
       "    .dataframe tbody tr th {\n",
       "        vertical-align: top;\n",
       "    }\n",
       "\n",
       "    .dataframe thead th {\n",
       "        text-align: right;\n",
       "    }\n",
       "</style>\n",
       "<table border=\"1\" class=\"dataframe\">\n",
       "  <thead>\n",
       "    <tr style=\"text-align: right;\">\n",
       "      <th></th>\n",
       "      <th>Nome</th>\n",
       "      <th>Nota</th>\n",
       "      <th>Aprovado</th>\n",
       "    </tr>\n",
       "  </thead>\n",
       "  <tbody>\n",
       "    <tr>\n",
       "      <th>0</th>\n",
       "      <td>Jose</td>\n",
       "      <td>4.0</td>\n",
       "      <td>Nao</td>\n",
       "    </tr>\n",
       "    <tr>\n",
       "      <th>2</th>\n",
       "      <td>Joao</td>\n",
       "      <td>5.5</td>\n",
       "      <td>Nao</td>\n",
       "    </tr>\n",
       "  </tbody>\n",
       "</table>\n",
       "</div>"
      ],
      "text/plain": [
       "   Nome  Nota Aprovado\n",
       "0  Jose   4.0      Nao\n",
       "2  Joao   5.5      Nao"
      ]
     },
     "execution_count": 16,
     "metadata": {},
     "output_type": "execute_result"
    }
   ],
   "source": [
    "alunos_df.loc[[0,2]] # Filtro de uma linha "
   ]
  },
  {
   "cell_type": "code",
   "execution_count": 17,
   "id": "fe2c3f8f",
   "metadata": {},
   "outputs": [
    {
     "data": {
      "text/html": [
       "<div>\n",
       "<style scoped>\n",
       "    .dataframe tbody tr th:only-of-type {\n",
       "        vertical-align: middle;\n",
       "    }\n",
       "\n",
       "    .dataframe tbody tr th {\n",
       "        vertical-align: top;\n",
       "    }\n",
       "\n",
       "    .dataframe thead th {\n",
       "        text-align: right;\n",
       "    }\n",
       "</style>\n",
       "<table border=\"1\" class=\"dataframe\">\n",
       "  <thead>\n",
       "    <tr style=\"text-align: right;\">\n",
       "      <th></th>\n",
       "      <th>Nome</th>\n",
       "      <th>Nota</th>\n",
       "      <th>Aprovado</th>\n",
       "    </tr>\n",
       "  </thead>\n",
       "  <tbody>\n",
       "    <tr>\n",
       "      <th>0</th>\n",
       "      <td>Jose</td>\n",
       "      <td>4.0</td>\n",
       "      <td>Nao</td>\n",
       "    </tr>\n",
       "  </tbody>\n",
       "</table>\n",
       "</div>"
      ],
      "text/plain": [
       "   Nome  Nota Aprovado\n",
       "0  Jose   4.0      Nao"
      ]
     },
     "execution_count": 17,
     "metadata": {},
     "output_type": "execute_result"
    }
   ],
   "source": [
    "alunos_df.loc[ alunos_df['Nome']=='Jose']"
   ]
  },
  {
   "cell_type": "markdown",
   "id": "44021aa2",
   "metadata": {},
   "source": [
    "### **Manipulando linha do DataFrame**"
   ]
  },
  {
   "cell_type": "code",
   "execution_count": 18,
   "id": "c88acfa3",
   "metadata": {},
   "outputs": [
    {
     "name": "stdout",
     "output_type": "stream",
     "text": [
      "    Nome  Nota Aprovado\n",
      "0   Jose   4.0      Nao\n",
      "1  Maria   7.0      Sim\n",
      "2   Joao   5.5      Nao\n"
     ]
    }
   ],
   "source": [
    "primeiraslinhas = alunos_df.loc[0:2]\n",
    "print(primeiraslinhas)"
   ]
  },
  {
   "cell_type": "markdown",
   "id": "6f53dde2",
   "metadata": {},
   "source": [
    "# **Manipulando colunas do DataFrame**"
   ]
  },
  {
   "cell_type": "code",
   "execution_count": 19,
   "id": "2c89b102",
   "metadata": {
    "scrolled": true
   },
   "outputs": [
    {
     "data": {
      "text/html": [
       "<div>\n",
       "<style scoped>\n",
       "    .dataframe tbody tr th:only-of-type {\n",
       "        vertical-align: middle;\n",
       "    }\n",
       "\n",
       "    .dataframe tbody tr th {\n",
       "        vertical-align: top;\n",
       "    }\n",
       "\n",
       "    .dataframe thead th {\n",
       "        text-align: right;\n",
       "    }\n",
       "</style>\n",
       "<table border=\"1\" class=\"dataframe\">\n",
       "  <thead>\n",
       "    <tr style=\"text-align: right;\">\n",
       "      <th></th>\n",
       "      <th>Modelo</th>\n",
       "      <th>Marca</th>\n",
       "      <th>Colecao</th>\n",
       "      <th>Cor</th>\n",
       "    </tr>\n",
       "  </thead>\n",
       "  <tbody>\n",
       "    <tr>\n",
       "      <th>0</th>\n",
       "      <td>USS Enterprise NCC-1701</td>\n",
       "      <td>Hot Wheels</td>\n",
       "      <td>Mainline</td>\n",
       "      <td>Branco</td>\n",
       "    </tr>\n",
       "    <tr>\n",
       "      <th>1</th>\n",
       "      <td>USS Vengeance</td>\n",
       "      <td>Hot Wheels</td>\n",
       "      <td>Mainline</td>\n",
       "      <td>Cinza</td>\n",
       "    </tr>\n",
       "    <tr>\n",
       "      <th>2</th>\n",
       "      <td>Datsun 240z</td>\n",
       "      <td>Hot Wheels</td>\n",
       "      <td>Mainline</td>\n",
       "      <td>Branco</td>\n",
       "    </tr>\n",
       "    <tr>\n",
       "      <th>3</th>\n",
       "      <td>Blook O' Wood</td>\n",
       "      <td>Hot Wheels</td>\n",
       "      <td>Mainline</td>\n",
       "      <td>Branco</td>\n",
       "    </tr>\n",
       "    <tr>\n",
       "      <th>4</th>\n",
       "      <td>Datsun 620</td>\n",
       "      <td>Hot Wheels</td>\n",
       "      <td>Mainline</td>\n",
       "      <td>Laranja</td>\n",
       "    </tr>\n",
       "    <tr>\n",
       "      <th>...</th>\n",
       "      <td>...</td>\n",
       "      <td>...</td>\n",
       "      <td>...</td>\n",
       "      <td>...</td>\n",
       "    </tr>\n",
       "    <tr>\n",
       "      <th>377</th>\n",
       "      <td>Toyota Tacoma</td>\n",
       "      <td>Hot Wheels</td>\n",
       "      <td>Mainline</td>\n",
       "      <td>Azul</td>\n",
       "    </tr>\n",
       "    <tr>\n",
       "      <th>378</th>\n",
       "      <td>Ford Sierra Cosworth</td>\n",
       "      <td>Hot Wheels</td>\n",
       "      <td>Mainline</td>\n",
       "      <td>Preto</td>\n",
       "    </tr>\n",
       "    <tr>\n",
       "      <th>379</th>\n",
       "      <td>59 Impala</td>\n",
       "      <td>Hot Wheels</td>\n",
       "      <td>Mainline</td>\n",
       "      <td>Rosa</td>\n",
       "    </tr>\n",
       "    <tr>\n",
       "      <th>380</th>\n",
       "      <td>RAM 2500</td>\n",
       "      <td>Hot Wheels</td>\n",
       "      <td>Mainline</td>\n",
       "      <td>Cinza</td>\n",
       "    </tr>\n",
       "    <tr>\n",
       "      <th>381</th>\n",
       "      <td>Mustang Mach E</td>\n",
       "      <td>Hot Wheels</td>\n",
       "      <td>Mainline</td>\n",
       "      <td>Branco</td>\n",
       "    </tr>\n",
       "  </tbody>\n",
       "</table>\n",
       "<p>382 rows × 4 columns</p>\n",
       "</div>"
      ],
      "text/plain": [
       "                      Modelo       Marca   Colecao      Cor\n",
       "0    USS Enterprise NCC-1701  Hot Wheels  Mainline   Branco\n",
       "1              USS Vengeance  Hot Wheels  Mainline    Cinza\n",
       "2                Datsun 240z  Hot Wheels  Mainline   Branco\n",
       "3              Blook O' Wood  Hot Wheels  Mainline   Branco\n",
       "4                 Datsun 620  Hot Wheels  Mainline  Laranja\n",
       "..                       ...         ...       ...      ...\n",
       "377            Toyota Tacoma  Hot Wheels  Mainline     Azul\n",
       "378     Ford Sierra Cosworth  Hot Wheels  Mainline    Preto\n",
       "379                59 Impala  Hot Wheels  Mainline     Rosa\n",
       "380                 RAM 2500  Hot Wheels  Mainline    Cinza\n",
       "381           Mustang Mach E  Hot Wheels  Mainline   Branco\n",
       "\n",
       "[382 rows x 4 columns]"
      ]
     },
     "metadata": {},
     "output_type": "display_data"
    }
   ],
   "source": [
    "import pandas as pd\n",
    "dados_mini = pd.read_excel(\"D:\\Documentos\\CARRINHOS.xlsx\")\n",
    "display(dados_mini)"
   ]
  },
  {
   "cell_type": "markdown",
   "id": "9290dea4",
   "metadata": {},
   "source": [
    "### **Renomeando colunas**"
   ]
  },
  {
   "cell_type": "code",
   "execution_count": 20,
   "id": "078afd92",
   "metadata": {},
   "outputs": [
    {
     "data": {
      "text/html": [
       "<div>\n",
       "<style scoped>\n",
       "    .dataframe tbody tr th:only-of-type {\n",
       "        vertical-align: middle;\n",
       "    }\n",
       "\n",
       "    .dataframe tbody tr th {\n",
       "        vertical-align: top;\n",
       "    }\n",
       "\n",
       "    .dataframe thead th {\n",
       "        text-align: right;\n",
       "    }\n",
       "</style>\n",
       "<table border=\"1\" class=\"dataframe\">\n",
       "  <thead>\n",
       "    <tr style=\"text-align: right;\">\n",
       "      <th></th>\n",
       "      <th>Model</th>\n",
       "      <th>Brand</th>\n",
       "      <th>Collection</th>\n",
       "      <th>Color</th>\n",
       "    </tr>\n",
       "  </thead>\n",
       "  <tbody>\n",
       "    <tr>\n",
       "      <th>0</th>\n",
       "      <td>USS Enterprise NCC-1701</td>\n",
       "      <td>Hot Wheels</td>\n",
       "      <td>Mainline</td>\n",
       "      <td>Branco</td>\n",
       "    </tr>\n",
       "    <tr>\n",
       "      <th>1</th>\n",
       "      <td>USS Vengeance</td>\n",
       "      <td>Hot Wheels</td>\n",
       "      <td>Mainline</td>\n",
       "      <td>Cinza</td>\n",
       "    </tr>\n",
       "    <tr>\n",
       "      <th>2</th>\n",
       "      <td>Datsun 240z</td>\n",
       "      <td>Hot Wheels</td>\n",
       "      <td>Mainline</td>\n",
       "      <td>Branco</td>\n",
       "    </tr>\n",
       "    <tr>\n",
       "      <th>3</th>\n",
       "      <td>Blook O' Wood</td>\n",
       "      <td>Hot Wheels</td>\n",
       "      <td>Mainline</td>\n",
       "      <td>Branco</td>\n",
       "    </tr>\n",
       "    <tr>\n",
       "      <th>4</th>\n",
       "      <td>Datsun 620</td>\n",
       "      <td>Hot Wheels</td>\n",
       "      <td>Mainline</td>\n",
       "      <td>Laranja</td>\n",
       "    </tr>\n",
       "    <tr>\n",
       "      <th>...</th>\n",
       "      <td>...</td>\n",
       "      <td>...</td>\n",
       "      <td>...</td>\n",
       "      <td>...</td>\n",
       "    </tr>\n",
       "    <tr>\n",
       "      <th>377</th>\n",
       "      <td>Toyota Tacoma</td>\n",
       "      <td>Hot Wheels</td>\n",
       "      <td>Mainline</td>\n",
       "      <td>Azul</td>\n",
       "    </tr>\n",
       "    <tr>\n",
       "      <th>378</th>\n",
       "      <td>Ford Sierra Cosworth</td>\n",
       "      <td>Hot Wheels</td>\n",
       "      <td>Mainline</td>\n",
       "      <td>Preto</td>\n",
       "    </tr>\n",
       "    <tr>\n",
       "      <th>379</th>\n",
       "      <td>59 Impala</td>\n",
       "      <td>Hot Wheels</td>\n",
       "      <td>Mainline</td>\n",
       "      <td>Rosa</td>\n",
       "    </tr>\n",
       "    <tr>\n",
       "      <th>380</th>\n",
       "      <td>RAM 2500</td>\n",
       "      <td>Hot Wheels</td>\n",
       "      <td>Mainline</td>\n",
       "      <td>Cinza</td>\n",
       "    </tr>\n",
       "    <tr>\n",
       "      <th>381</th>\n",
       "      <td>Mustang Mach E</td>\n",
       "      <td>Hot Wheels</td>\n",
       "      <td>Mainline</td>\n",
       "      <td>Branco</td>\n",
       "    </tr>\n",
       "  </tbody>\n",
       "</table>\n",
       "<p>382 rows × 4 columns</p>\n",
       "</div>"
      ],
      "text/plain": [
       "                       Model       Brand Collection    Color\n",
       "0    USS Enterprise NCC-1701  Hot Wheels   Mainline   Branco\n",
       "1              USS Vengeance  Hot Wheels   Mainline    Cinza\n",
       "2                Datsun 240z  Hot Wheels   Mainline   Branco\n",
       "3              Blook O' Wood  Hot Wheels   Mainline   Branco\n",
       "4                 Datsun 620  Hot Wheels   Mainline  Laranja\n",
       "..                       ...         ...        ...      ...\n",
       "377            Toyota Tacoma  Hot Wheels   Mainline     Azul\n",
       "378     Ford Sierra Cosworth  Hot Wheels   Mainline    Preto\n",
       "379                59 Impala  Hot Wheels   Mainline     Rosa\n",
       "380                 RAM 2500  Hot Wheels   Mainline    Cinza\n",
       "381           Mustang Mach E  Hot Wheels   Mainline   Branco\n",
       "\n",
       "[382 rows x 4 columns]"
      ]
     },
     "execution_count": 20,
     "metadata": {},
     "output_type": "execute_result"
    }
   ],
   "source": [
    "dados_mini.rename(columns = {'Modelo':'Model','Marca':'Brand','Colecao':'Collection','Cor':'Color'})"
   ]
  },
  {
   "cell_type": "markdown",
   "id": "82e7c9e3",
   "metadata": {},
   "source": [
    "### **Contagem de itens nas coluna**"
   ]
  },
  {
   "cell_type": "code",
   "execution_count": 21,
   "id": "c23e5c16",
   "metadata": {},
   "outputs": [
    {
     "data": {
      "text/plain": [
       "Hot Wheels    378\n",
       "Matchbox        3\n",
       "JADA TOYS       1\n",
       "Name: Marca, dtype: int64"
      ]
     },
     "execution_count": 21,
     "metadata": {},
     "output_type": "execute_result"
    }
   ],
   "source": [
    "dados_mini['Marca'].value_counts()"
   ]
  },
  {
   "cell_type": "code",
   "execution_count": 22,
   "id": "b7469539",
   "metadata": {},
   "outputs": [
    {
     "data": {
      "text/plain": [
       "Azul        74\n",
       "Vermelho    67\n",
       "Branco      51\n",
       "Cinza       37\n",
       "Verde       35\n",
       "Amarelo     33\n",
       "Preto       30\n",
       "Laranja     25\n",
       "Roxo        16\n",
       "Dourado      7\n",
       "Marrom       3\n",
       "Bege         2\n",
       "verde        1\n",
       "Rosa         1\n",
       "Name: Cor, dtype: int64"
      ]
     },
     "execution_count": 22,
     "metadata": {},
     "output_type": "execute_result"
    }
   ],
   "source": [
    "dados_mini['Cor'].value_counts()"
   ]
  },
  {
   "cell_type": "markdown",
   "id": "9ca99a71",
   "metadata": {},
   "source": [
    "### **Excluindo uma coluna**"
   ]
  },
  {
   "cell_type": "code",
   "execution_count": 23,
   "id": "9f1ffe16",
   "metadata": {},
   "outputs": [],
   "source": [
    "dados_mini.drop('Marca', axis = 1, inplace = True)\n",
    "dados_mini.drop('Colecao', axis = 1, inplace = True)"
   ]
  },
  {
   "cell_type": "code",
   "execution_count": 24,
   "id": "c1ec62b4",
   "metadata": {},
   "outputs": [
    {
     "data": {
      "text/html": [
       "<div>\n",
       "<style scoped>\n",
       "    .dataframe tbody tr th:only-of-type {\n",
       "        vertical-align: middle;\n",
       "    }\n",
       "\n",
       "    .dataframe tbody tr th {\n",
       "        vertical-align: top;\n",
       "    }\n",
       "\n",
       "    .dataframe thead th {\n",
       "        text-align: right;\n",
       "    }\n",
       "</style>\n",
       "<table border=\"1\" class=\"dataframe\">\n",
       "  <thead>\n",
       "    <tr style=\"text-align: right;\">\n",
       "      <th></th>\n",
       "      <th>Modelo</th>\n",
       "      <th>Cor</th>\n",
       "    </tr>\n",
       "  </thead>\n",
       "  <tbody>\n",
       "    <tr>\n",
       "      <th>0</th>\n",
       "      <td>USS Enterprise NCC-1701</td>\n",
       "      <td>Branco</td>\n",
       "    </tr>\n",
       "    <tr>\n",
       "      <th>1</th>\n",
       "      <td>USS Vengeance</td>\n",
       "      <td>Cinza</td>\n",
       "    </tr>\n",
       "    <tr>\n",
       "      <th>2</th>\n",
       "      <td>Datsun 240z</td>\n",
       "      <td>Branco</td>\n",
       "    </tr>\n",
       "    <tr>\n",
       "      <th>3</th>\n",
       "      <td>Blook O' Wood</td>\n",
       "      <td>Branco</td>\n",
       "    </tr>\n",
       "    <tr>\n",
       "      <th>4</th>\n",
       "      <td>Datsun 620</td>\n",
       "      <td>Laranja</td>\n",
       "    </tr>\n",
       "  </tbody>\n",
       "</table>\n",
       "</div>"
      ],
      "text/plain": [
       "                    Modelo      Cor\n",
       "0  USS Enterprise NCC-1701   Branco\n",
       "1            USS Vengeance    Cinza\n",
       "2              Datsun 240z   Branco\n",
       "3            Blook O' Wood   Branco\n",
       "4               Datsun 620  Laranja"
      ]
     },
     "execution_count": 24,
     "metadata": {},
     "output_type": "execute_result"
    }
   ],
   "source": [
    "dados_mini.head()"
   ]
  }
 ],
 "metadata": {
  "kernelspec": {
   "display_name": "Python 3 (ipykernel)",
   "language": "python",
   "name": "python3"
  },
  "language_info": {
   "codemirror_mode": {
    "name": "ipython",
    "version": 3
   },
   "file_extension": ".py",
   "mimetype": "text/x-python",
   "name": "python",
   "nbconvert_exporter": "python",
   "pygments_lexer": "ipython3",
   "version": "3.9.7"
  }
 },
 "nbformat": 4,
 "nbformat_minor": 5
}
